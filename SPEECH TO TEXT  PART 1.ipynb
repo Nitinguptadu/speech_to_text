{
 "cells": [
  {
   "cell_type": "code",
   "execution_count": 1,
   "metadata": {},
   "outputs": [],
   "source": [
    "import os\n",
    "from tqdm import tqdm \n",
    "import pandas as pd\n",
    "import numpy as np\n",
    "import matplotlib.pyplot as plt\n",
    "from scipy.io import wavfile\n",
    "from python_speech_features import mfcc,logfbank\n",
    "import librosa"
   ]
  },
  {
   "cell_type": "code",
   "execution_count": 2,
   "metadata": {},
   "outputs": [],
   "source": [
    "df = pd.read_csv(\"instruments.csv\")"
   ]
  },
  {
   "cell_type": "code",
   "execution_count": 3,
   "metadata": {},
   "outputs": [
    {
     "data": {
      "text/html": [
       "<div>\n",
       "<style scoped>\n",
       "    .dataframe tbody tr th:only-of-type {\n",
       "        vertical-align: middle;\n",
       "    }\n",
       "\n",
       "    .dataframe tbody tr th {\n",
       "        vertical-align: top;\n",
       "    }\n",
       "\n",
       "    .dataframe thead th {\n",
       "        text-align: right;\n",
       "    }\n",
       "</style>\n",
       "<table border=\"1\" class=\"dataframe\">\n",
       "  <thead>\n",
       "    <tr style=\"text-align: right;\">\n",
       "      <th></th>\n",
       "      <th>fname</th>\n",
       "      <th>label</th>\n",
       "    </tr>\n",
       "  </thead>\n",
       "  <tbody>\n",
       "    <tr>\n",
       "      <th>0</th>\n",
       "      <td>5388d14d.wav</td>\n",
       "      <td>Saxophone</td>\n",
       "    </tr>\n",
       "    <tr>\n",
       "      <th>1</th>\n",
       "      <td>c685f05f.wav</td>\n",
       "      <td>Saxophone</td>\n",
       "    </tr>\n",
       "    <tr>\n",
       "      <th>2</th>\n",
       "      <td>36d20ab5.wav</td>\n",
       "      <td>Saxophone</td>\n",
       "    </tr>\n",
       "    <tr>\n",
       "      <th>3</th>\n",
       "      <td>d6665734.wav</td>\n",
       "      <td>Saxophone</td>\n",
       "    </tr>\n",
       "    <tr>\n",
       "      <th>4</th>\n",
       "      <td>7352e28f.wav</td>\n",
       "      <td>Saxophone</td>\n",
       "    </tr>\n",
       "  </tbody>\n",
       "</table>\n",
       "</div>"
      ],
      "text/plain": [
       "          fname      label\n",
       "0  5388d14d.wav  Saxophone\n",
       "1  c685f05f.wav  Saxophone\n",
       "2  36d20ab5.wav  Saxophone\n",
       "3  d6665734.wav  Saxophone\n",
       "4  7352e28f.wav  Saxophone"
      ]
     },
     "execution_count": 3,
     "metadata": {},
     "output_type": "execute_result"
    }
   ],
   "source": [
    "df.head()"
   ]
  },
  {
   "cell_type": "code",
   "execution_count": 4,
   "metadata": {},
   "outputs": [],
   "source": [
    "df.set_index('fname', inplace=True)\n"
   ]
  },
  {
   "cell_type": "code",
   "execution_count": 5,
   "metadata": {},
   "outputs": [
    {
     "data": {
      "text/html": [
       "<div>\n",
       "<style scoped>\n",
       "    .dataframe tbody tr th:only-of-type {\n",
       "        vertical-align: middle;\n",
       "    }\n",
       "\n",
       "    .dataframe tbody tr th {\n",
       "        vertical-align: top;\n",
       "    }\n",
       "\n",
       "    .dataframe thead th {\n",
       "        text-align: right;\n",
       "    }\n",
       "</style>\n",
       "<table border=\"1\" class=\"dataframe\">\n",
       "  <thead>\n",
       "    <tr style=\"text-align: right;\">\n",
       "      <th></th>\n",
       "      <th>label</th>\n",
       "    </tr>\n",
       "    <tr>\n",
       "      <th>fname</th>\n",
       "      <th></th>\n",
       "    </tr>\n",
       "  </thead>\n",
       "  <tbody>\n",
       "    <tr>\n",
       "      <th>5388d14d.wav</th>\n",
       "      <td>Saxophone</td>\n",
       "    </tr>\n",
       "    <tr>\n",
       "      <th>c685f05f.wav</th>\n",
       "      <td>Saxophone</td>\n",
       "    </tr>\n",
       "    <tr>\n",
       "      <th>36d20ab5.wav</th>\n",
       "      <td>Saxophone</td>\n",
       "    </tr>\n",
       "    <tr>\n",
       "      <th>d6665734.wav</th>\n",
       "      <td>Saxophone</td>\n",
       "    </tr>\n",
       "    <tr>\n",
       "      <th>7352e28f.wav</th>\n",
       "      <td>Saxophone</td>\n",
       "    </tr>\n",
       "  </tbody>\n",
       "</table>\n",
       "</div>"
      ],
      "text/plain": [
       "                  label\n",
       "fname                  \n",
       "5388d14d.wav  Saxophone\n",
       "c685f05f.wav  Saxophone\n",
       "36d20ab5.wav  Saxophone\n",
       "d6665734.wav  Saxophone\n",
       "7352e28f.wav  Saxophone"
      ]
     },
     "execution_count": 5,
     "metadata": {},
     "output_type": "execute_result"
    }
   ],
   "source": [
    "df.head()"
   ]
  },
  {
   "cell_type": "code",
   "execution_count": 6,
   "metadata": {},
   "outputs": [
    {
     "data": {
      "text/plain": [
       "Index(['5388d14d.wav', 'c685f05f.wav', '36d20ab5.wav', 'd6665734.wav',\n",
       "       '7352e28f.wav', '8fa096bf.wav', '2f9c5f62.wav', '9cd05a2b.wav',\n",
       "       'ab465bf9.wav', 'c40632d7.wav',\n",
       "       ...\n",
       "       'e43f7db2.wav', '3c66098d.wav', 'ad42e493.wav', '740e5bb7.wav',\n",
       "       '800b401e.wav', '3c713bcf.wav', '2fc00271.wav', 'b0c06255.wav',\n",
       "       '71c6451f.wav', '5de123c3.wav'],\n",
       "      dtype='object', name='fname', length=300)"
      ]
     },
     "execution_count": 6,
     "metadata": {},
     "output_type": "execute_result"
    }
   ],
   "source": [
    "df.index"
   ]
  },
  {
   "cell_type": "code",
   "execution_count": 7,
   "metadata": {},
   "outputs": [],
   "source": [
    "for f in df.index:\n",
    "    rate, signal = wavfile.read('wavfiles/'+f)\n",
    "    df.at[f, 'length'] = signal.shape[0]/rate\n"
   ]
  },
  {
   "cell_type": "code",
   "execution_count": 8,
   "metadata": {},
   "outputs": [],
   "source": [
    "classes = list(np.unique(df.label))"
   ]
  },
  {
   "cell_type": "code",
   "execution_count": 9,
   "metadata": {},
   "outputs": [
    {
     "data": {
      "text/plain": [
       "['Acoustic_guitar',\n",
       " 'Bass_drum',\n",
       " 'Cello',\n",
       " 'Clarinet',\n",
       " 'Double_bass',\n",
       " 'Flute',\n",
       " 'Hi-hat',\n",
       " 'Saxophone',\n",
       " 'Snare_drum',\n",
       " 'Violin_or_fiddle']"
      ]
     },
     "execution_count": 9,
     "metadata": {},
     "output_type": "execute_result"
    }
   ],
   "source": [
    "classes"
   ]
  },
  {
   "cell_type": "code",
   "execution_count": 10,
   "metadata": {},
   "outputs": [],
   "source": [
    "class_dist = df.groupby(['label'])['length'].mean()"
   ]
  },
  {
   "cell_type": "code",
   "execution_count": 11,
   "metadata": {},
   "outputs": [
    {
     "data": {
      "text/plain": [
       "label\n",
       "Acoustic_guitar     6.948667\n",
       "Bass_drum           1.937333\n",
       "Cello               5.000667\n",
       "Clarinet            6.596000\n",
       "Double_bass         3.206000\n",
       "Flute               8.054667\n",
       "Hi-hat              3.357333\n",
       "Saxophone           7.124000\n",
       "Snare_drum          3.987333\n",
       "Violin_or_fiddle    4.530000\n",
       "Name: length, dtype: float64"
      ]
     },
     "execution_count": 11,
     "metadata": {},
     "output_type": "execute_result"
    }
   ],
   "source": [
    "class_dist"
   ]
  },
  {
   "cell_type": "code",
   "execution_count": 12,
   "metadata": {},
   "outputs": [
    {
     "data": {
      "image/png": "[encoded data removed]",
      "text/plain": [
       "<Figure size 432x288 with 1 Axes>"
      ]
     },
     "metadata": {},
     "output_type": "display_data"
    }
   ],
   "source": [
    "fig, ax = plt.subplots()\n",
    "ax.set_title('Class Distribution', y=1.08)\n",
    "ax.pie(class_dist, labels=class_dist.index, autopct='%1.1f%%',\n",
    "       shadow=False, startangle=90)\n",
    "ax.axis('equal')\n",
    "plt.show()"
   ]
  },
  {
   "cell_type": "code",
   "execution_count": 13,
   "metadata": {},
   "outputs": [],
   "source": [
    "\n",
    "for c in classes:\n",
    "    wav_file = df[df.label == c].iloc[0,0]\n",
    "    signal,rate = librosa.load('wavfiles/'+f,sr = 44100) ##"
   ]
  },
  {
   "cell_type": "code",
   "execution_count": 14,
   "metadata": {},
   "outputs": [
    {
     "data": {
      "text/plain": [
       "'Violin_or_fiddle'"
      ]
     },
     "execution_count": 14,
     "metadata": {},
     "output_type": "execute_result"
    }
   ],
   "source": [
    "wav_file"
   ]
  },
  {
   "cell_type": "code",
   "execution_count": null,
   "metadata": {},
   "outputs": [],
   "source": []
  }
 ],
 "metadata": {
  "kernelspec": {
   "display_name": "Python 3",
   "language": "python",
   "name": "python3"
  },
  "language_info": {
   "codemirror_mode": {
    "name": "ipython",
    "version": 3
   },
   "file_extension": ".py",
   "mimetype": "text/x-python",
   "name": "python",
   "nbconvert_exporter": "python",
   "pygments_lexer": "ipython3",
   "version": "3.7.1"
  }
 },
 "nbformat": 4,
 "nbformat_minor": 2
}

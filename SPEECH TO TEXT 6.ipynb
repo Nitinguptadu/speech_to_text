{
 "cells": [
  {
   "cell_type": "code",
   "execution_count": 1,
   "metadata": {},
   "outputs": [
    {
     "name": "stderr",
     "output_type": "stream",
     "text": [
      "Using TensorFlow backend.\n"
     ]
    }
   ],
   "source": [
    "import os\n",
    "from scipy.io import wavfile\n",
    "import pandas as pd\n",
    "import matplotlib.pyplot as plt\n",
    "import numpy as np\n",
    "from keras.layers import Conv2D, MaxPool2D, Flatten, LSTM\n",
    "from keras.layers import Dropout, Dense, TimeDistributed\n",
    "from keras.models import Sequential\n",
    "from keras.utils import to_categorical\n",
    "from sklearn.utils.class_weight import compute_class_weight\n",
    "from tqdm import tqdm\n",
    "from python_speech_features import mfcc\n",
    "from cfg import Config\n",
    "import pickle\n",
    "from keras.callbacks import ModelCheckpoint"
   ]
  },
  {
   "cell_type": "code",
   "execution_count": 2,
   "metadata": {},
   "outputs": [],
   "source": [
    "def check_data():\n",
    "    if os.path.isfile(config.p_path):\n",
    "        print('loading existing data for {} model'.format(config.mode))\n",
    "        with open(config.p_path, 'rb') as handle:\n",
    "            tmp = pickle.load(handle)\n",
    "            return tmp\n",
    "    else:\n",
    "        return None       "
   ]
  },
  {
   "cell_type": "code",
   "execution_count": 3,
   "metadata": {},
   "outputs": [],
   "source": [
    "def build_rand_feat():\n",
    "    tmp = check_data()\n",
    "    if tmp:\n",
    "        return tmp.data[0], tmp.data[1]\n",
    "    X = []\n",
    "    y = []\n",
    "    _min, _max = float('inf'), -float('inf')\n",
    "    for _ in tqdm(range(n_samples)):\n",
    "        rand_class = np.random.choice(class_dist.index, p=prob_dist)\n",
    "        file = np.random.choice(df[df.label==rand_class].index)\n",
    "        rate, wav = wavfile.read('clean/'+file)\n",
    "        label = df.at[file, 'label']\n",
    "        rand_index = np.random.randint(0, wav.shape[0]-config.step)\n",
    "        sample = wav[rand_index:rand_index+config.step]\n",
    "        X_sample = mfcc(sample,rate,\n",
    "                       numcep=config.nfeat, nfilt=config.nfilt,nfft=config.nfft)\n",
    "        _min = min(np.amin(X_sample), _min)\n",
    "        _max = max(np.amax(X_sample), _max)\n",
    "        X.append(X_sample)  \n",
    "        y.append(classes.index(label))\n",
    "    config.min = _min\n",
    "    config.max = _max \n",
    "    X, y = np.array(X), np.array(y)\n",
    "    X = (X - _min)/(_max - _min)\n",
    "    \n",
    "    if config.mode == 'conv':\n",
    "        X =X.reshape(X.shape[0],X.shape[1],X.shape[2],1)\n",
    "    elif config.mode == 'time':\n",
    "        X = X.reshape(X.shape[0],X.shape[1],X.shape[2])\n",
    "    y = to_categorical(y, num_classes = 10)\n",
    "    config.data =(X,y)\n",
    "    \n",
    "    with open(config.p_path, 'wb') as handle:\n",
    "        pickle.dump(config, handle, protocol =2)\n",
    "        \n",
    "\n",
    "    return X,y\n"
   ]
  },
  {
   "cell_type": "code",
   "execution_count": 4,
   "metadata": {},
   "outputs": [],
   "source": [
    "def get_conv_model():\n",
    "    model = Sequential()\n",
    "    model.add(Conv2D(16,(3,3), activation =\"relu\",strides=(1,1), padding='same',input_shape=input_shape))\n",
    "    model.add(Conv2D(32,(3,3), activation =\"relu\",strides=(1,1), padding='same'))\n",
    "    model.add(Conv2D(64,(3,3), activation =\"relu\",strides=(1,1), padding='same'))\n",
    "    model.add(Conv2D(128,(3,3), activation =\"relu\",strides=(1,1), padding='same'))\n",
    "    model.add(MaxPool2D((2,2)))\n",
    "    model.add(Dropout(0.5))\n",
    "    model.add(Flatten())\n",
    "    model.add(Dense(128, activation='relu'))\n",
    "    model.add(Dense(64, activation='relu'))\n",
    "    model.add(Dense(10, activation='softmax'))\n",
    "    model.summary()\n",
    "    model.compile(loss='categorical_crossentropy',\n",
    "                 optimizer='adam',\n",
    "                 metrics=['acc'])\n",
    "    return model"
   ]
  },
  {
   "cell_type": "code",
   "execution_count": 5,
   "metadata": {},
   "outputs": [],
   "source": [
    "def get_recurrent_model():\n",
    "    model = Sequential()\n",
    "    model.add(LSTM(128, return_sequences = True,input_shape = input_shape))\n",
    "    model.add(LSTM(128, return_sequences = True))\n",
    "    model.add(Dropout(0.5))\n",
    "    model.add(TimeDistributed(Dense(64, activation ='relu')))\n",
    "    model.add(TimeDistributed(Dense(32, activation ='relu')))\n",
    "    model.add(TimeDistributed(Dense(16, activation ='relu')))\n",
    "    model.add(TimeDistributed(Dense(8, activation ='relu')))\n",
    "    model.add(Flatten())\n",
    "    model.add(Dense(10, activation='softmax'))\n",
    "    model.summary()\n",
    "    model.compile(loss='categorical_crossentropy',\n",
    "                 optimizer='adam',\n",
    "                 metrics=['acc'])\n",
    "    return model"
   ]
  },
  {
   "cell_type": "code",
   "execution_count": 6,
   "metadata": {},
   "outputs": [],
   "source": [
    "df = pd.read_csv('instruments.csv')\n",
    "df.set_index('fname', inplace=True)"
   ]
  },
  {
   "cell_type": "code",
   "execution_count": 7,
   "metadata": {},
   "outputs": [],
   "source": [
    "for f in df.index:\n",
    "    rate, signal = wavfile.read('clean/'+f)\n",
    "    df.at[f, 'length'] = signal.shape[0]/rate\n"
   ]
  },
  {
   "cell_type": "code",
   "execution_count": 8,
   "metadata": {},
   "outputs": [],
   "source": [
    "classes = list(np.unique(df.label))\n",
    "class_dist = df.groupby(['label'])['length'].mean()\n"
   ]
  },
  {
   "cell_type": "code",
   "execution_count": 9,
   "metadata": {},
   "outputs": [],
   "source": [
    "n_samples = 2*int(df['length'].sum()/0.1)\n",
    "prob_dist = class_dist/class_dist.sum()\n",
    "chioces = np.random.choice(class_dist.index, p=prob_dist)"
   ]
  },
  {
   "cell_type": "code",
   "execution_count": 10,
   "metadata": {
    "scrolled": true
   },
   "outputs": [
    {
     "data": {
      "image/png": "[encoded data removed]",
      "text/plain": [
       "<Figure size 432x288 with 1 Axes>"
      ]
     },
     "metadata": {},
     "output_type": "display_data"
    }
   ],
   "source": [
    "fig, ax = plt.subplots()\n",
    "ax.set_title('Class Distribution', y=1.08)\n",
    "ax.pie(class_dist, labels=class_dist.index, autopct='%1.1f%%',\n",
    "       shadow=False, startangle=90)\n",
    "ax.axis('equal')\n",
    "plt.show()"
   ]
  },
  {
   "cell_type": "code",
   "execution_count": 11,
   "metadata": {},
   "outputs": [
    {
     "name": "stderr",
     "output_type": "stream",
     "text": [
      "100%|██████████| 26410/26410 [01:08<00:00, 386.47it/s]\n"
     ]
    },
    {
     "name": "stdout",
     "output_type": "stream",
     "text": [
      "WARNING:tensorflow:From /home/v-nitin.gupta/anaconda3/lib/python3.7/site-packages/tensorflow/python/framework/op_def_library.py:263: colocate_with (from tensorflow.python.framework.ops) is deprecated and will be removed in a future version.\n",
      "Instructions for updating:\n",
      "Colocations handled automatically by placer.\n",
      "WARNING:tensorflow:From /home/v-nitin.gupta/anaconda3/lib/python3.7/site-packages/keras/backend/tensorflow_backend.py:3445: calling dropout (from tensorflow.python.ops.nn_ops) with keep_prob is deprecated and will be removed in a future version.\n",
      "Instructions for updating:\n",
      "Please use `rate` instead of `keep_prob`. Rate should be set to `rate = 1 - keep_prob`.\n",
      "_________________________________________________________________\n",
      "Layer (type)                 Output Shape              Param #   \n",
      "=================================================================\n",
      "lstm_1 (LSTM)                (None, 9, 128)            72704     \n",
      "_________________________________________________________________\n",
      "lstm_2 (LSTM)                (None, 9, 128)            131584    \n",
      "_________________________________________________________________\n",
      "dropout_1 (Dropout)          (None, 9, 128)            0         \n",
      "_________________________________________________________________\n",
      "time_distributed_1 (TimeDist (None, 9, 64)             8256      \n",
      "_________________________________________________________________\n",
      "time_distributed_2 (TimeDist (None, 9, 32)             2080      \n",
      "_________________________________________________________________\n",
      "time_distributed_3 (TimeDist (None, 9, 16)             528       \n",
      "_________________________________________________________________\n",
      "time_distributed_4 (TimeDist (None, 9, 8)              136       \n",
      "_________________________________________________________________\n",
      "flatten_1 (Flatten)          (None, 72)                0         \n",
      "_________________________________________________________________\n",
      "dense_5 (Dense)              (None, 10)                730       \n",
      "=================================================================\n",
      "Total params: 216,018\n",
      "Trainable params: 216,018\n",
      "Non-trainable params: 0\n",
      "_________________________________________________________________\n",
      "WARNING:tensorflow:From /home/v-nitin.gupta/anaconda3/lib/python3.7/site-packages/tensorflow/python/ops/math_ops.py:3066: to_int32 (from tensorflow.python.ops.math_ops) is deprecated and will be removed in a future version.\n",
      "Instructions for updating:\n",
      "Use tf.cast instead.\n",
      "Train on 23769 samples, validate on 2641 samples\n",
      "Epoch 1/10\n",
      "23769/23769 [==============================] - 21s 899us/step - loss: 1.7085 - acc: 0.3661 - val_loss: 1.3589 - val_acc: 0.5032\n",
      "\n",
      "Epoch 00001: val_acc improved from -inf to 0.50322, saving model to models/time.model\n",
      "Epoch 2/10\n",
      "23769/23769 [==============================] - 20s 820us/step - loss: 1.0976 - acc: 0.6094 - val_loss: 0.9375 - val_acc: 0.6793\n",
      "\n",
      "Epoch 00002: val_acc improved from 0.50322 to 0.67929, saving model to models/time.model\n",
      "Epoch 3/10\n",
      "23769/23769 [==============================] - 20s 827us/step - loss: 0.8793 - acc: 0.6911 - val_loss: 0.7615 - val_acc: 0.7308\n",
      "\n",
      "Epoch 00003: val_acc improved from 0.67929 to 0.73078, saving model to models/time.model\n",
      "Epoch 4/10\n",
      "23769/23769 [==============================] - 20s 828us/step - loss: 0.7519 - acc: 0.7385 - val_loss: 0.7153 - val_acc: 0.7577\n",
      "\n",
      "Epoch 00004: val_acc improved from 0.73078 to 0.75767, saving model to models/time.model\n",
      "Epoch 5/10\n",
      "23769/23769 [==============================] - 20s 834us/step - loss: 0.6644 - acc: 0.7695 - val_loss: 0.5718 - val_acc: 0.8050\n",
      "\n",
      "Epoch 00005: val_acc improved from 0.75767 to 0.80500, saving model to models/time.model\n",
      "Epoch 6/10\n",
      "23769/23769 [==============================] - 20s 836us/step - loss: 0.6001 - acc: 0.7928 - val_loss: 0.5121 - val_acc: 0.8292\n",
      "\n",
      "Epoch 00006: val_acc improved from 0.80500 to 0.82923, saving model to models/time.model\n",
      "Epoch 7/10\n",
      "23769/23769 [==============================] - 20s 831us/step - loss: 0.5441 - acc: 0.8099 - val_loss: 0.5306 - val_acc: 0.8194\n",
      "\n",
      "Epoch 00007: val_acc did not improve from 0.82923\n",
      "Epoch 8/10\n",
      "23769/23769 [==============================] - 20s 838us/step - loss: 0.4982 - acc: 0.8289 - val_loss: 0.4347 - val_acc: 0.8516\n",
      "\n",
      "Epoch 00008: val_acc improved from 0.82923 to 0.85157, saving model to models/time.model\n",
      "Epoch 9/10\n",
      "23769/23769 [==============================] - 20s 846us/step - loss: 0.4548 - acc: 0.8443 - val_loss: 0.5166 - val_acc: 0.8243\n",
      "\n",
      "Epoch 00009: val_acc did not improve from 0.85157\n",
      "Epoch 10/10\n",
      "23769/23769 [==============================] - 19s 786us/step - loss: 0.4295 - acc: 0.8544 - val_loss: 0.3827 - val_acc: 0.8660\n",
      "\n",
      "Epoch 00010: val_acc improved from 0.85157 to 0.86596, saving model to models/time.model\n"
     ]
    }
   ],
   "source": [
    "config = Config(mode='time')##\n",
    "\n",
    "if config.mode == 'conv':\n",
    "    X, y = build_rand_feat()\n",
    "    y_flat = np.argmax(y, axis=1)\n",
    "    input_shape = (X.shape[1],X.shape[2],1)\n",
    "    model = get_conv_model()\n",
    "\n",
    "elif config.mode == 'time':\n",
    "    X, y = build_rand_feat()\n",
    "    y_flat = np.argmax(y, axis=1)\n",
    "    input_shape = (X.shape[1], X.shape[2])\n",
    "    model = get_recurrent_model()\n",
    "    \n",
    "class_weight = compute_class_weight('balanced',\n",
    "                                   np.unique(y_flat),\n",
    "                                   y_flat)\n",
    "\n",
    "checkpoint = ModelCheckpoint(config.model_path, monitor ='val_acc',verbose=1, mode ='max',\n",
    "                             save_best_only = True, save_weights_only = False , period=1)\n",
    "\n",
    "model.fit(X,y,epochs=10, batch_size=32,\n",
    "          shuffle = True,validation_split = 0.1,\n",
    "          callbacks=[checkpoint])\n",
    "\n",
    "model.save(config.model_path)\n"
   ]
  }
 ],
 "metadata": {
  "kernelspec": {
   "display_name": "Python 3",
   "language": "python",
   "name": "python3"
  },
  "language_info": {
   "codemirror_mode": {
    "name": "ipython",
    "version": 3
   },
   "file_extension": ".py",
   "mimetype": "text/x-python",
   "name": "python",
   "nbconvert_exporter": "python",
   "pygments_lexer": "ipython3",
   "version": "3.7.1"
  }
 },
 "nbformat": 4,
 "nbformat_minor": 2
}
